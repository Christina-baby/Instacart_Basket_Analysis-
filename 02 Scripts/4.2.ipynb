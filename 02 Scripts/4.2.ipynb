{
 "cells": [
  {
   "cell_type": "markdown",
   "id": "6e4e340d-cffe-46bd-9bc2-97165708d8de",
   "metadata": {},
   "source": [
    "Importing libra"
   ]
  },
  {
   "cell_type": "code",
   "execution_count": null,
   "id": "73106976-1962-4ac1-8c76-0291b655680d",
   "metadata": {},
   "outputs": [],
   "source": [
    "# inport libraries\n",
    "import pandas as pd\n",
    "import numpy as np\n",
    "import os"
   ]
  },
  {
   "cell_type": "markdown",
   "id": "649ab071-5d1d-4e06-aeb8-cb3e85bcb3f0",
   "metadata": {},
   "source": [
    "QUESTION 7"
   ]
  },
  {
   "cell_type": "code",
   "execution_count": null,
   "id": "dbb3a9a2-2902-49c4-837e-512b95af0e37",
   "metadata": {},
   "outputs": [],
   "source": [
    "# Code 3 different ways of reaching a result of 100 "
   ]
  },
  {
   "cell_type": "code",
   "execution_count": 24,
   "id": "b1aa3560-bbe2-407b-9017-0abb7fcb601e",
   "metadata": {},
   "outputs": [
    {
     "name": "stdout",
     "output_type": "stream",
     "text": [
      "100\n"
     ]
    }
   ],
   "source": [
    "x=25\n",
    "y=75\n",
    "print(x+y)"
   ]
  },
  {
   "cell_type": "code",
   "execution_count": 26,
   "id": "ca60fe4f-1235-45cc-835f-189a70ea192e",
   "metadata": {},
   "outputs": [
    {
     "name": "stdout",
     "output_type": "stream",
     "text": [
      "100\n"
     ]
    }
   ],
   "source": [
    "x=200\n",
    "y=100\n",
    "print(x-y)"
   ]
  },
  {
   "cell_type": "code",
   "execution_count": 30,
   "id": "b5fb2104-990c-4ed9-9909-6ff5721b5dba",
   "metadata": {},
   "outputs": [
    {
     "name": "stdout",
     "output_type": "stream",
     "text": [
      "100\n"
     ]
    }
   ],
   "source": [
    "x=10\n",
    "y=10\n",
    "print(x*y)"
   ]
  },
  {
   "cell_type": "markdown",
   "id": "d2143232-f491-4ee6-baec-42be3cd2e45b",
   "metadata": {},
   "source": [
    "Question 8"
   ]
  },
  {
   "cell_type": "code",
   "execution_count": null,
   "id": "45dbaf59-8f1f-4816-9379-c41037f5e01b",
   "metadata": {},
   "outputs": [],
   "source": [
    "# Code 2 floating-point variables and divide them"
   ]
  },
  {
   "cell_type": "code",
   "execution_count": 32,
   "id": "d2e774b2-7a3e-4a5f-bab9-71acb1ab8a2f",
   "metadata": {},
   "outputs": [
    {
     "name": "stdout",
     "output_type": "stream",
     "text": [
      "1.3333333333333333\n"
     ]
    }
   ],
   "source": [
    "x=4.444\n",
    "y=3.333\n",
    "print(x/y)"
   ]
  },
  {
   "cell_type": "code",
   "execution_count": 34,
   "id": "cd28b3ec-b8d6-4720-84aa-1ee5bdd3dfc7",
   "metadata": {},
   "outputs": [
    {
     "data": {
      "text/plain": [
       "4.104895104895105"
      ]
     },
     "execution_count": 34,
     "metadata": {},
     "output_type": "execute_result"
    }
   ],
   "source": [
    "x=5.87\n",
    "y=1.43\n",
    "x/y"
   ]
  },
  {
   "cell_type": "markdown",
   "id": "6cba8154-b469-4be3-bd91-2416cbaa4fea",
   "metadata": {},
   "source": [
    "Question 9"
   ]
  },
  {
   "cell_type": "code",
   "execution_count": null,
   "id": "1fdee2e3-f0a1-4462-b267-aa9269c77362",
   "metadata": {},
   "outputs": [],
   "source": [
    "# Construct a short word made of separate strings "
   ]
  },
  {
   "cell_type": "code",
   "execution_count": 20,
   "id": "1b1c74ac-bbe6-40d0-9d59-341aba02c145",
   "metadata": {},
   "outputs": [],
   "source": [
    "x='Hello'\n",
    "y='Python'"
   ]
  },
  {
   "cell_type": "code",
   "execution_count": 22,
   "id": "af21071d-432a-4fcd-9507-5dfd79a80fb4",
   "metadata": {},
   "outputs": [
    {
     "name": "stdout",
     "output_type": "stream",
     "text": [
      "HelloPython\n"
     ]
    }
   ],
   "source": [
    "print(x+y)"
   ]
  },
  {
   "cell_type": "code",
   "execution_count": null,
   "id": "c2de0694-10cd-4528-8b7c-7f82b0213974",
   "metadata": {},
   "outputs": [],
   "source": [
    "Question 10"
   ]
  },
  {
   "cell_type": "code",
   "execution_count": null,
   "id": "26ef7d3d-e073-4dba-abad-170edb50a645",
   "metadata": {},
   "outputs": [],
   "source": [
    "# Construct 2 short sentences made of separate strings"
   ]
  },
  {
   "cell_type": "code",
   "execution_count": 41,
   "id": "69acaf61-15ca-4ceb-bbcd-a64fa6ef38fb",
   "metadata": {},
   "outputs": [
    {
     "name": "stdout",
     "output_type": "stream",
     "text": [
      "vote trump 2025.\n"
     ]
    }
   ],
   "source": [
    "x='vote '\n",
    "y='trump '\n",
    "z='2025.'\n",
    "print(x+y+z)"
   ]
  },
  {
   "cell_type": "code",
   "execution_count": 45,
   "id": "52034488-6aec-415a-a067-c61bb967655f",
   "metadata": {},
   "outputs": [
    {
     "name": "stdout",
     "output_type": "stream",
     "text": [
      "Trump will be thepresident.\n"
     ]
    }
   ],
   "source": [
    "x='Trump '\n",
    "y='will be the'\n",
    "z='president.'\n",
    "print(x+y+z)"
   ]
  },
  {
   "cell_type": "code",
   "execution_count": null,
   "id": "9cb8c27a-469a-4d0a-8a97-dcdaf7a829d8",
   "metadata": {},
   "outputs": [],
   "source": []
  },
  {
   "cell_type": "code",
   "execution_count": null,
   "id": "9e60069a-b971-42f7-8041-fb47649fc4ec",
   "metadata": {},
   "outputs": [],
   "source": []
  },
  {
   "cell_type": "code",
   "execution_count": null,
   "id": "d48676ad-e734-4f63-92c5-5477b829b11d",
   "metadata": {},
   "outputs": [],
   "source": []
  },
  {
   "cell_type": "code",
   "execution_count": null,
   "id": "64e4c10a-4be2-4243-803e-d51ed1d49e6d",
   "metadata": {},
   "outputs": [],
   "source": []
  },
  {
   "cell_type": "code",
   "execution_count": null,
   "id": "54a40b38-d43f-48f1-84dc-2eb42ccc6e2e",
   "metadata": {},
   "outputs": [],
   "source": []
  },
  {
   "cell_type": "code",
   "execution_count": null,
   "id": "87932525-c35b-4df5-99d6-8dec778f2c8e",
   "metadata": {},
   "outputs": [],
   "source": []
  },
  {
   "cell_type": "code",
   "execution_count": null,
   "id": "588116dc-99ec-4278-b6e8-97b198ceff6d",
   "metadata": {},
   "outputs": [],
   "source": []
  },
  {
   "cell_type": "code",
   "execution_count": null,
   "id": "15df12ea-57ad-4aab-b265-73a841dbc7df",
   "metadata": {},
   "outputs": [],
   "source": []
  },
  {
   "cell_type": "code",
   "execution_count": null,
   "id": "99605065-0d0f-4873-bc94-713ae0fa270b",
   "metadata": {},
   "outputs": [],
   "source": []
  },
  {
   "cell_type": "code",
   "execution_count": null,
   "id": "01cb0528-78c3-455c-acea-eb5efab6e522",
   "metadata": {},
   "outputs": [],
   "source": []
  }
 ],
 "metadata": {
  "kernelspec": {
   "display_name": "Python 3 (ipykernel)",
   "language": "python",
   "name": "python3"
  },
  "language_info": {
   "codemirror_mode": {
    "name": "ipython",
    "version": 3
   },
   "file_extension": ".py",
   "mimetype": "text/x-python",
   "name": "python",
   "nbconvert_exporter": "python",
   "pygments_lexer": "ipython3",
   "version": "3.11.5"
  }
 },
 "nbformat": 4,
 "nbformat_minor": 5
}
